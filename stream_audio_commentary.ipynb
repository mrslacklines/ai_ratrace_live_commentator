{
 "cells": [
  {
   "cell_type": "markdown",
   "source": [
    "# Dick Pooper - the infamous A.I. Rat Race commentator\n",
    "Based on ChatGPT API and Elevenlabs TTS"
   ],
   "metadata": {
    "collapsed": false
   }
  },
  {
   "cell_type": "markdown",
   "source": [
    "Please go to `race_data.json` file and fill in any details you wish about the\n",
    " race, the contenders and what not. The structure of the JSON file can be\n",
    " freely changed, new keys or datatypes can be added. ChatGPT will read it and\n",
    "  use these info in his commentary.."
   ],
   "metadata": {
    "collapsed": false
   }
  },
  {
   "cell_type": "markdown",
   "source": [
    "Here we import some basic stuff - the API libs mainly."
   ],
   "metadata": {
    "collapsed": false
   }
  },
  {
   "cell_type": "code",
   "execution_count": 1,
   "outputs": [],
   "source": [
    "import os\n",
    "from pprint import pprint\n",
    "from time import sleep\n",
    "\n",
    "import openai\n",
    "from dotenv import find_dotenv, load_dotenv\n",
    "from elevenlabs import generate, stream, voices, set_api_key\n",
    "\n",
    "from prompts import prompts"
   ],
   "metadata": {
    "collapsed": false,
    "ExecuteTime": {
     "end_time": "2023-07-24T12:45:43.757460Z",
     "start_time": "2023-07-24T12:45:43.638872Z"
    }
   }
  },
  {
   "cell_type": "markdown",
   "source": [
    "You need to put your API credentials for Elevenlabs and OpenAI ChatGPT API in\n",
    " the `.env` file. Without this the whole thing will either not work or you\n",
    " will hit the API rate limits very soon. Please test a little bit. It is hard\n",
    "  to estimate how many characters for Elevenlabs and how many tokens for\n",
    "  OpenAI ChatGPT calls will be used in a rat race.\n",
    "\n",
    "You can get your API_KEYS on the ChatGPT and Elevenlabs websites."
   ],
   "metadata": {
    "collapsed": false
   }
  },
  {
   "cell_type": "code",
   "execution_count": 2,
   "outputs": [
    {
     "data": {
      "text/plain": "True"
     },
     "execution_count": 2,
     "metadata": {},
     "output_type": "execute_result"
    }
   ],
   "source": [
    "load_dotenv(find_dotenv(\"./.env\"))"
   ],
   "metadata": {
    "collapsed": false,
    "ExecuteTime": {
     "end_time": "2023-07-24T12:45:43.761481Z",
     "start_time": "2023-07-24T12:45:43.757837Z"
    }
   }
  },
  {
   "cell_type": "code",
   "execution_count": 3,
   "outputs": [],
   "source": [
    "openai.api_key = os.environ.get(\"OPENAI_API_KEY\")\n",
    "set_api_key(os.environ.get(\"ELEVENLABS_API_KEY\"))"
   ],
   "metadata": {
    "collapsed": false,
    "ExecuteTime": {
     "end_time": "2023-07-24T12:45:43.763177Z",
     "start_time": "2023-07-24T12:45:43.761886Z"
    }
   }
  },
  {
   "cell_type": "markdown",
   "source": [
    "We WILL get some OpenAI API errors.. This is ambiguosly set to how long we\n",
    "should sleep after an error.. This should probably be implemented using some\n",
    "retrying library or something.."
   ],
   "metadata": {
    "collapsed": false
   }
  },
  {
   "cell_type": "code",
   "execution_count": 4,
   "outputs": [],
   "source": [
    "WAIT_SEC_ON_API_ERROR = 2"
   ],
   "metadata": {
    "collapsed": false,
    "ExecuteTime": {
     "end_time": "2023-07-24T12:45:43.765999Z",
     "start_time": "2023-07-24T12:45:43.764520Z"
    }
   }
  },
  {
   "cell_type": "markdown",
   "source": [
    "These are the race stages that you can use. This is *the most important part*.\n",
    "\n",
    "DO NOT RUN INITIAL STAGE MANUALLY - IT WILL BE GENERATED AUTOMATICALLY.\n",
    "\n",
    "You should always start with an prerace stage before the race start - this\n",
    "will generate some introductory comments about the contenders, weather or\n",
    "whatever you put in the `race_data.json` file.\n",
    "\n",
    "Then you can use the start stage to start a live commentary. The commentator\n",
    "will announce the start of the race and throw a few jokes or whatnot.\n",
    "\n",
    "The midrace stage should be run multiple times during the race whenever you\n",
    "feel like you want to add some commentary.\n",
    "\n",
    "The finish stage is for announcing the end of the race. It will not give any\n",
    "details about the winner yet!\n",
    "\n",
    "When you run the winner stage you should provide the name of the winner after\n",
    " space, i.e. `winner Richard`\n"
   ],
   "metadata": {
    "collapsed": false
   }
  },
  {
   "cell_type": "code",
   "execution_count": 5,
   "outputs": [],
   "source": [
    "RACE_STAGES = [\n",
    "    \"initial\",\n",
    "    \"prerace\",\n",
    "    \"start\",\n",
    "    \"midrace\",\n",
    "    \"finish\",\n",
    "    \"winner\",\n",
    "]"
   ],
   "metadata": {
    "collapsed": false,
    "ExecuteTime": {
     "end_time": "2023-07-24T12:45:43.768268Z",
     "start_time": "2023-07-24T12:45:43.766446Z"
    }
   }
  },
  {
   "cell_type": "markdown",
   "source": [
    "Here comes the code..."
   ],
   "metadata": {
    "collapsed": false
   }
  },
  {
   "cell_type": "code",
   "execution_count": 6,
   "outputs": [],
   "source": [
    "def set_tts_voice(voice_name=\"Arnold\", stability=0.1, similarity_boost=0.75):\n",
    "    voices_list = voices()\n",
    "    voices_names_list = [voice.name for voice in voices_list]\n",
    "    chosen_voice_index = voices_names_list.index(voice_name)\n",
    "\n",
    "    voice = voices()[chosen_voice_index]\n",
    "    print(voice)\n",
    "    voice.settings.stability = stability\n",
    "    voice.settings.similarity_boost = similarity_boost\n",
    "\n",
    "    return voice"
   ],
   "metadata": {
    "collapsed": false,
    "ExecuteTime": {
     "end_time": "2023-07-24T12:45:43.771046Z",
     "start_time": "2023-07-24T12:45:43.769174Z"
    }
   }
  },
  {
   "cell_type": "code",
   "execution_count": 7,
   "outputs": [],
   "source": [
    "def stream_commentary(prompt, voice):\n",
    "    audio_stream = generate(\n",
    "        text=prompt,\n",
    "        voice=voice,\n",
    "        stream=True\n",
    "    )\n",
    "    return audio_stream"
   ],
   "metadata": {
    "collapsed": false,
    "ExecuteTime": {
     "end_time": "2023-07-24T12:45:43.773016Z",
     "start_time": "2023-07-24T12:45:43.771505Z"
    }
   }
  },
  {
   "cell_type": "code",
   "execution_count": 8,
   "outputs": [],
   "source": [
    "def setup_openai_system_context_message():\n",
    "    return [\n",
    "        {\n",
    "            \"role\": \"system\",\n",
    "            \"content\": prompts[\"initial\"]\n",
    "        }\n",
    "    ]"
   ],
   "metadata": {
    "collapsed": false,
    "ExecuteTime": {
     "end_time": "2023-07-24T12:45:43.775191Z",
     "start_time": "2023-07-24T12:45:43.773569Z"
    }
   }
  },
  {
   "cell_type": "code",
   "execution_count": 9,
   "outputs": [],
   "source": [
    "def call_openai_api(content, chat_history, model=\"gpt-3.5-turbo\", temperature=0.3):\n",
    "    chat_history.append(\n",
    "        {\n",
    "            \"role\": \"user\",\n",
    "            \"content\": content\n",
    "        }\n",
    "    )\n",
    "    response = openai.ChatCompletion.create(\n",
    "        model=model,\n",
    "        messages=chat_history,\n",
    "        temperature=temperature,\n",
    "    )\n",
    "\n",
    "    return response.choices[0].message[\"content\"]"
   ],
   "metadata": {
    "collapsed": false,
    "ExecuteTime": {
     "end_time": "2023-07-24T12:45:43.777369Z",
     "start_time": "2023-07-24T12:45:43.776138Z"
    }
   }
  },
  {
   "cell_type": "code",
   "execution_count": 10,
   "outputs": [],
   "source": [
    "def setup():\n",
    "    voice = set_tts_voice()\n",
    "    initial_chat_history = setup_openai_system_context_message()\n",
    "\n",
    "    return voice, initial_chat_history"
   ],
   "metadata": {
    "collapsed": false,
    "ExecuteTime": {
     "end_time": "2023-07-24T12:45:43.795365Z",
     "start_time": "2023-07-24T12:45:43.779369Z"
    }
   }
  },
  {
   "cell_type": "code",
   "execution_count": 11,
   "outputs": [],
   "source": [
    "def comment(voice, race_stage, chat_history):\n",
    "    commentary = call_openai_api(prompts[race_stage], chat_history)\n",
    "    print(f\"++++++++++++++++++++++++++++++{race_stage.upper()}++++++++++++++++++++++++++++++\")\n",
    "    print(commentary)\n",
    "    stream(stream_commentary(commentary, voice))\n",
    "\n",
    "    return commentary"
   ],
   "metadata": {
    "collapsed": false,
    "ExecuteTime": {
     "end_time": "2023-07-24T12:45:43.795534Z",
     "start_time": "2023-07-24T12:45:43.781581Z"
    }
   }
  },
  {
   "cell_type": "code",
   "execution_count": 12,
   "outputs": [
    {
     "name": "stdout",
     "output_type": "stream",
     "text": [
      "voice_id='VR6AewLTigWG4xSOukaG' name='Arnold' category='premade' description=None labels={} samples=None settings=VoiceSettings(stability=0.5, similarity_boost=0.75) design=None preview_url='https://storage.googleapis.com/eleven-public-prod/premade/voices/VR6AewLTigWG4xSOukaG/66e83dc2-6543-4897-9283-e028ac5ae4aa.mp3'\n"
     ]
    }
   ],
   "source": [
    "voice, chat_history = setup()"
   ],
   "metadata": {
    "collapsed": false,
    "ExecuteTime": {
     "end_time": "2023-07-24T12:45:48.671041Z",
     "start_time": "2023-07-24T12:45:43.784337Z"
    }
   }
  },
  {
   "cell_type": "markdown",
   "source": [
    "This is the main loop that will ask for stage name, run the commentary and\n",
    " then ask for another stage name. It will run until you provide the winner\n",
    " stage."
   ],
   "metadata": {
    "collapsed": false
   }
  },
  {
   "cell_type": "code",
   "execution_count": 13,
   "outputs": [
    {
     "name": "stdout",
     "output_type": "stream",
     "text": [
      "Incorrect race stage. Use one of the following: initial, prerace, start, midrace, finish, winner\n"
     ]
    },
    {
     "ename": "KeyError",
     "evalue": "''",
     "output_type": "error",
     "traceback": [
      "\u001B[0;31m---------------------------------------------------------------------------\u001B[0m",
      "\u001B[0;31mKeyError\u001B[0m                                  Traceback (most recent call last)",
      "Cell \u001B[0;32mIn[13], line 10\u001B[0m\n\u001B[1;32m      8\u001B[0m     \u001B[38;5;28;01mbreak\u001B[39;00m\n\u001B[1;32m      9\u001B[0m \u001B[38;5;28;01mtry\u001B[39;00m:\n\u001B[0;32m---> 10\u001B[0m     comment_str \u001B[38;5;241m=\u001B[39m \u001B[43mcomment\u001B[49m\u001B[43m(\u001B[49m\u001B[43mvoice\u001B[49m\u001B[43m,\u001B[49m\u001B[43m \u001B[49m\u001B[43mrace_stage\u001B[49m\u001B[43m,\u001B[49m\u001B[43m \u001B[49m\u001B[43mchat_history\u001B[49m\u001B[43m)\u001B[49m\n\u001B[1;32m     11\u001B[0m     dialogue_turn \u001B[38;5;241m=\u001B[39m [\n\u001B[1;32m     12\u001B[0m         {\n\u001B[1;32m     13\u001B[0m             \u001B[38;5;124m\"\u001B[39m\u001B[38;5;124mrole\u001B[39m\u001B[38;5;124m\"\u001B[39m: \u001B[38;5;124m\"\u001B[39m\u001B[38;5;124muser\u001B[39m\u001B[38;5;124m\"\u001B[39m,\n\u001B[0;32m   (...)\u001B[0m\n\u001B[1;32m     19\u001B[0m         },\n\u001B[1;32m     20\u001B[0m     ]\n\u001B[1;32m     21\u001B[0m     chat_history\u001B[38;5;241m.\u001B[39mextend(dialogue_turn)\n",
      "Cell \u001B[0;32mIn[11], line 2\u001B[0m, in \u001B[0;36mcomment\u001B[0;34m(voice, race_stage, chat_history)\u001B[0m\n\u001B[1;32m      1\u001B[0m \u001B[38;5;28;01mdef\u001B[39;00m \u001B[38;5;21mcomment\u001B[39m(voice, race_stage, chat_history):\n\u001B[0;32m----> 2\u001B[0m     commentary \u001B[38;5;241m=\u001B[39m call_openai_api(\u001B[43mprompts\u001B[49m\u001B[43m[\u001B[49m\u001B[43mrace_stage\u001B[49m\u001B[43m]\u001B[49m, chat_history)\n\u001B[1;32m      3\u001B[0m     \u001B[38;5;28mprint\u001B[39m(\u001B[38;5;124mf\u001B[39m\u001B[38;5;124m\"\u001B[39m\u001B[38;5;124m++++++++++++++++++++++++++++++\u001B[39m\u001B[38;5;132;01m{\u001B[39;00mrace_stage\u001B[38;5;241m.\u001B[39mupper()\u001B[38;5;132;01m}\u001B[39;00m\u001B[38;5;124m++++++++++++++++++++++++++++++\u001B[39m\u001B[38;5;124m\"\u001B[39m)\n\u001B[1;32m      4\u001B[0m     \u001B[38;5;28mprint\u001B[39m(commentary)\n",
      "\u001B[0;31mKeyError\u001B[0m: ''"
     ]
    }
   ],
   "source": [
    "while True:\n",
    "    race_stage = input()\n",
    "    if race_stage.lower().strip() not in RACE_STAGES:\n",
    "        print(f\"Incorrect race stage. Use one of the following: {', '.join(RACE_STAGES)}\")\n",
    "    if \"winner\" in race_stage.lower():\n",
    "        winner = race_stage.split(\":\")[1].strip()\n",
    "        comment(voice, \" \".join(race_stage, winner))\n",
    "        break\n",
    "    try:\n",
    "        comment_str = comment(voice, race_stage, chat_history)\n",
    "        dialogue_turn = [\n",
    "            {\n",
    "                \"role\": \"user\",\n",
    "                \"content\": prompts[race_stage],\n",
    "            },\n",
    "            {\n",
    "                \"role\": \"assistant\",\n",
    "                \"content\": comment_str\n",
    "            },\n",
    "        ]\n",
    "        chat_history.extend(dialogue_turn)\n",
    "        pprint(chat_history)\n",
    "    except openai.error.APIConnectionError:\n",
    "        print(\"OPENAI API ERROR!!! Moving on!\")\n",
    "        sleep(WAIT_SEC_ON_API_ERROR)\n"
   ],
   "metadata": {
    "collapsed": false,
    "ExecuteTime": {
     "end_time": "2023-07-24T12:45:51.880172Z",
     "start_time": "2023-07-24T12:45:48.674459Z"
    }
   }
  }
 ],
 "metadata": {
  "kernelspec": {
   "display_name": "Python 3",
   "language": "python",
   "name": "python3"
  },
  "language_info": {
   "codemirror_mode": {
    "name": "ipython",
    "version": 2
   },
   "file_extension": ".py",
   "mimetype": "text/x-python",
   "name": "python",
   "nbconvert_exporter": "python",
   "pygments_lexer": "ipython2",
   "version": "2.7.6"
  }
 },
 "nbformat": 4,
 "nbformat_minor": 0
}
